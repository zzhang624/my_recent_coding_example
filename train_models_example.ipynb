{
 "cells": [
  {
   "cell_type": "code",
   "execution_count": null,
   "id": "4de7f733-b92f-4bdd-8529-c0afe7d1d85a",
   "metadata": {},
   "outputs": [],
   "source": [
    "from integrated import generate_training_dataset_from_csv, generate_training_dataset_from_excel, AntibodyCls, train_rf, test_rf, train_NN, test_NN"
   ]
  },
  {
   "attachments": {},
   "cell_type": "markdown",
   "id": "369a87d7-ad2a-42c8-ba4e-3a25b825cd43",
   "metadata": {},
   "source": [
    "## generate training datasets\n",
    "\n",
    "To generate training datasets from Excel files, use the 'generate_training_dataset_from_excel' function and provide the file path, sheet name, and column name for the amino acid sequence. For CSV files, use the 'generate_training_dataset_from_csv' function and provide the file path and column name for the sequence."
   ]
  },
  {
   "cell_type": "code",
   "execution_count": null,
   "id": "18ffdbd4-1974-41a6-9c84-4406de20cfb5",
   "metadata": {
    "scrolled": true,
    "tags": []
   },
   "outputs": [],
   "source": [
    "name_list = [\"HC\", \"LC\"]\n",
    "for name in name_list:\n",
    "    for i in range(3):\n",
    "        generate_training_dataset_from_excel(\"antibody_A/{}.xlsx\".format(name), \"AAsequence\", \n",
    "                                             \"antibody_A/{}_{}_training_datasets\".format(name, i), sheet_name=i)  \n",
    "name_list = ['antibody_B','antibody_C','antibody_D','antibody_E']\n",
    "for name in name_list:\n",
    "    generate_training_dataset_from_csv(\"PATH/{}.csv\".format(name), \"AAsequence\", \"PATH/{}_training_datasets\".format(name))"
   ]
  },
  {
   "attachments": {},
   "cell_type": "markdown",
   "id": "49be5663-197d-41c2-bbed-b0190ac5fe01",
   "metadata": {},
   "source": [
    "## create antibody objects from training datasets\n",
    "\n",
    "To create antibody objects from training datasets, use the 'AntibodyCls' class. Specify the training dataset path, mutation count column, bin number (if applicable), and name for each antibody object."
   ]
  },
  {
   "cell_type": "code",
   "execution_count": null,
   "id": "0ae4bcf5-9178-419b-b462-2434db311add",
   "metadata": {},
   "outputs": [],
   "source": [
    "antibody = {}\n",
    "\n",
    "name_list = [\"HC_0\", \"HC_1\", \"HC_2\", \"LC_0\", \"LC_1\", \"LC_2\"]\n",
    "for name in name_list:\n",
    "    antibody['antibody_A_'+name] = AntibodyCls(\"antibody_A/{}_training_datasets\".format(name), \n",
    "                                               mutation_count_column='mutation_count', name=name)\n",
    "    antibody['antibody_A_'+name].generate_training_array()\n",
    "    \n",
    "name_list = ['antibody_B','antibody_C','antibody_D','antibody_E']\n",
    "for name in name_list:\n",
    "    antibody['antibody_F_'+name] = AntibodyCls(\"antibody_F/{}_training_datasets\".format(name), \n",
    "                                               mutation_count_column='mutation_count', bin_num=4, name=name)\n",
    "    antibody['antibody_F_'+name].generate_training_array()"
   ]
  },
  {
   "attachments": {},
   "cell_type": "markdown",
   "id": "135a5cce-f68c-4b8e-bced-3765ded7cdc2",
   "metadata": {},
   "source": [
    "## train models"
   ]
  },
  {
   "cell_type": "code",
   "execution_count": null,
   "id": "4a22bca7-a355-4287-a85c-28a24a89ff89",
   "metadata": {},
   "outputs": [],
   "source": [
    "train_name_list = ['antibody_A_HC_0', 'antibody_A_HC_1', 'antibody_A_HC_2', 'antibody_A_LC_0', \n",
    "                   'antibody_A_LC_1', 'antibody_A_LC_2','antibody_B','antibody_C']\n",
    "antibody_train_list = [antibody[key] for key in train_name_list] \n",
    "\n",
    "test_name_list = ['antibody_D','antibody_E']\n",
    "antibody_test_list = [antibody[key] for key in test_name_list]"
   ]
  },
  {
   "attachments": {},
   "cell_type": "markdown",
   "id": "15355493-db56-4d92-9883-82987f8f43c0",
   "metadata": {},
   "source": [
    "To train a random forest model without hyperparameter tuning, use the 'train_rf' function and provide a list of antibody objects. To train a random forest model with hyperparameter tuning, pass 'tune_hyper=True' and specify the parameters to be tuned using a dictionary."
   ]
  },
  {
   "cell_type": "code",
   "execution_count": null,
   "id": "5e72733d-8e58-4a95-a5a1-48ea1aae722d",
   "metadata": {},
   "outputs": [],
   "source": [
    "clf = train_rf(antibody_train_list)"
   ]
  },
  {
   "cell_type": "code",
   "execution_count": null,
   "id": "4a36c6cd-8ab3-4ca7-9c75-bf8b3bc60d7a",
   "metadata": {},
   "outputs": [],
   "source": [
    "parameters={'max_depth': [10, 20, 50]}\n",
    "\n",
    "clf_ht = train_rf(antibody_train_list, tune_hyper=True, parameters=parameters)"
   ]
  },
  {
   "attachments": {},
   "cell_type": "markdown",
   "id": "2f7510a2-dc80-4fa7-b178-4cdfd39b4ea0",
   "metadata": {},
   "source": [
    "To train a neural network model, use the 'train_NN' function and provide a list of antibody objects, a record name, batch size, learning rate, and neural network architecture. The function saves training metrics, tensorboard logs, checkpoints, and models to corresponding folders."
   ]
  },
  {
   "cell_type": "code",
   "execution_count": null,
   "id": "84027687-6530-4abf-aa3e-faa4c70fe4e8",
   "metadata": {},
   "outputs": [
    {
     "name": "stdout",
     "output_type": "stream",
     "text": [
      "epoch 70, test_F1 = 0.6684\n",
      "epoch 140, test_F1 = 0.6950\n",
      "epoch 210, test_F1 = 0.6971\n",
      "epoch 280, test_F1 = 0.6954\n"
     ]
    }
   ],
   "source": [
    "for N_nodes in [512]:\n",
    "    train_NN(antibody_list=antibody_train_list, record_name='{}_lr.003_batch10000'.format(N_nodes), \n",
    "             batch_size=10000, lr=.003, NN_architecture=[1280,N_nodes,2], num_shuffle=1)"
   ]
  },
  {
   "attachments": {},
   "cell_type": "markdown",
   "id": "a8f36fe0-06f2-4d9a-a9d1-073556526158",
   "metadata": {},
   "source": [
    "## test models"
   ]
  },
  {
   "attachments": {},
   "cell_type": "markdown",
   "id": "dae4d8c4-e073-4204-b2eb-c4993cb8d2c4",
   "metadata": {},
   "source": [
    "To test a trained model, use the 'test_rf' or 'test_NN' function and provide the trained classifier file path and a list of antibody objects for testing. The functions output the F1 score for a random forest model and F1 score, precision, and recall for a neural network model."
   ]
  },
  {
   "cell_type": "code",
   "execution_count": null,
   "id": "ed5ad5e3",
   "metadata": {},
   "outputs": [
    {
     "name": "stdout",
     "output_type": "stream",
     "text": [
      "F1_score for [lower affinity, maintain or increase] class: [0.92032222 0.26607145]\n"
     ]
    }
   ],
   "source": [
    "test_rf(clf, antibody_test_list)"
   ]
  },
  {
   "cell_type": "code",
   "execution_count": null,
   "id": "d397e92c-53a1-4ec6-87ac-6d491c6b4f59",
   "metadata": {},
   "outputs": [
    {
     "name": "stdout",
     "output_type": "stream",
     "text": [
      "F1: 0.280\n",
      "Precision: 0.232\n",
      "Recall: 0.351\n"
     ]
    }
   ],
   "source": [
    "test_NN('512_lr.003_batch10000_r1.pth', antibody_test_list)"
   ]
  },
  {
   "cell_type": "code",
   "execution_count": null,
   "id": "27293758-97c1-409c-85b3-04c601d96cea",
   "metadata": {},
   "outputs": [],
   "source": []
  }
 ],
 "metadata": {
  "kernelspec": {
   "display_name": "Python 3 (ipykernel)",
   "language": "python",
   "name": "python3"
  },
  "language_info": {
   "codemirror_mode": {
    "name": "ipython",
    "version": 3
   },
   "file_extension": ".py",
   "mimetype": "text/x-python",
   "name": "python",
   "nbconvert_exporter": "python",
   "pygments_lexer": "ipython3",
   "version": "3.9.12"
  }
 },
 "nbformat": 4,
 "nbformat_minor": 5
}
