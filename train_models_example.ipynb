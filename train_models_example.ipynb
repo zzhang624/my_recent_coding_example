{
 "cells": [
  {
   "attachments": {},
   "cell_type": "markdown",
   "id": "369a87d7-ad2a-42c8-ba4e-3a25b825cd43",
   "metadata": {},
   "source": [
    " ## Generating Training Datasets\n",
    " To generate training datasets from Excel files, use the `generate_training_dataset_from_excel` function and provide the file path, sheet name, and column name for the amino acid sequence. For CSV files, use the                  `generate_training_dataset_from_csv` function and provide the file path and column name for the sequence."
   ]
  },
  {
   "cell_type": "code",
   "execution_count": null,
   "id": "18ffdbd4-1974-41a6-9c84-4406de20cfb5",
   "metadata": {
    "scrolled": true,
    "tags": []
   },
   "outputs": [],
   "source": [
    "from integrated import generate_training_dataset_from_csv, generate_training_dataset_from_excel\n",
    "\n",
    "name_list = [\"HC\", \"LC\"]\n",
    "\n",
    "for name in name_list:\n",
    "    for i in range(3):\n",
    "        generate_training_dataset_from_excel(\n",
    "            \"antibody_A/{}.xlsx\".format(name),\n",
    "            \"AAsequence\",\n",
    "            \"antibody_A/{}_{}_training_datasets\".format(name, i),\n",
    "            sheet_name=i\n",
    "        )\n",
    "\n",
    "name_list = ['antibody_B', 'antibody_C', 'antibody_D', 'antibody_E']\n",
    "\n",
    "for name in name_list:\n",
    "    generate_training_dataset_from_csv(\n",
    "        \"PATH/{}.csv\".format(name),\n",
    "        \"AAsequence\",\n",
    "        \"PATH/{}_training_datasets\".format(name)\n",
    "    )\n"
   ]
  },
  {
   "attachments": {},
   "cell_type": "markdown",
   "id": "49be5663-197d-41c2-bbed-b0190ac5fe01",
   "metadata": {},
   "source": [
    "## Creating Antibody Objects from Training Datasets\n",
    "\n",
    "To create antibody objects from training datasets, use the 'AntibodyCls' class. Specify the training dataset path, mutation count column, bin number (if applicable), and name for each antibody object."
   ]
  },
  {
   "cell_type": "code",
   "execution_count": null,
   "id": "0ae4bcf5-9178-419b-b462-2434db311add",
   "metadata": {},
   "outputs": [],
   "source": [
    "from integrated import AntibodyCls\n",
    "\n",
    "antibody = {}\n",
    "\n",
    "name_list = [\"HC_0\", \"HC_1\", \"HC_2\", \"LC_0\", \"LC_1\", \"LC_2\"]\n",
    "\n",
    "for name in name_list:\n",
    "    antibody['antibody_A_'+name] = AntibodyCls(\n",
    "        \"antibody_A/{}_training_datasets\".format(name),\n",
    "        mutation_count_column='mutation_count',\n",
    "        name=name\n",
    "    )\n",
    "\n",
    "    antibody['antibody_A_'+name].generate_training_array()\n",
    "\n",
    "name_list = ['antibody_B', 'antibody_C', 'antibody_D', 'antibody_E']\n",
    "\n",
    "for name in name_list:\n",
    "    antibody['antibody_F_'+name] = AntibodyCls(\n",
    "        \"antibody_F/{}_training_datasets\".format(name),\n",
    "        mutation_count_column='mutation_count',\n",
    "        bin_num=4,\n",
    "        name=name\n",
    "    )\n",
    "\n",
    "    antibody['antibody_F_'+name].generate_training_array()"
   ]
  },
  {
   "attachments": {},
   "cell_type": "markdown",
   "id": "135a5cce-f68c-4b8e-bced-3765ded7cdc2",
   "metadata": {},
   "source": [
    " ## Training Models\n",
    "\n",
    "  To train a random forest model without hyperparameter tuning, use the `train_rf` function and provide a list of antibody objects. To train a random forest model with hyperparameter tuning, pass `tune_hyper=True` and specify the parameters to be tuned using a dictionary."
   ]
  },
  {
   "cell_type": "code",
   "execution_count": null,
   "id": "4a22bca7-a355-4287-a85c-28a24a89ff89",
   "metadata": {},
   "outputs": [],
   "source": [
    "from integrated import train_rf, train_NN\n",
    "\n",
    "train_name_list = ['antibody_A_HC_0', 'antibody_A_HC_1', 'antibody_A_HC_2', 'antibody_A_LC_0',\n",
    "                'antibody_A_LC_1', 'antibody_A_LC_2', 'antibody_B', 'antibody_C']\n",
    "antibody_train_list = [antibody[key] for key in train_name_list]\n",
    "\n",
    "test_name_list = ['antibody_D', 'antibody_E']\n",
    "antibody_test_list = [antibody[key] for key in test_name_list]"
   ]
  },
  {
   "cell_type": "code",
   "execution_count": null,
   "id": "5e72733d-8e58-4a95-a5a1-48ea1aae722d",
   "metadata": {},
   "outputs": [],
   "source": [
    "clf = train_rf(antibody_train_list)"
   ]
  },
  {
   "cell_type": "code",
   "execution_count": null,
   "id": "4a36c6cd-8ab3-4ca7-9c75-bf8b3bc60d7a",
   "metadata": {},
   "outputs": [],
   "source": [
    "parameters = {'max_depth': [10, 20, 50]}\n",
    "clf_ht = train_rf(\n",
    "    antibody_train_list,\n",
    "    tune_hyper=True,\n",
    "    parameters=parameters\n",
    ")"
   ]
  },
  {
   "attachments": {},
   "cell_type": "markdown",
   "id": "2f7510a2-dc80-4fa7-b178-4cdfd39b4ea0",
   "metadata": {},
   "source": [
    "To train a neural network model, use the `train_NN` function and provide a list of antibody objects, a record name, batch size, learning rate, and neural network architecture. The function saves training metrics, tensorboard logs, checkpoints, and models to corresponding folders."
   ]
  },
  {
   "cell_type": "code",
   "execution_count": null,
   "id": "84027687-6530-4abf-aa3e-faa4c70fe4e8",
   "metadata": {},
   "outputs": [],
   "source": [
    "for N_nodes in [512]:\n",
    "    train_NN(\n",
    "        antibody_list=antibody_train_list,\n",
    "        record_name='{}_lr.003_batch10000'.format(N_nodes),\n",
    "        batch_size=10000,\n",
    "        lr=.003,\n",
    "        NN_architecture=[1280, N_nodes, 2],\n",
    "        num_shuffle=1\n",
    "    )"
   ]
  },
  {
   "attachments": {},
   "cell_type": "markdown",
   "id": "dae4d8c4-e073-4204-b2eb-c4993cb8d2c4",
   "metadata": {},
   "source": [
    " ## Testing Models\n",
    " \n",
    "To test a trained model, use the `test_rf` or `test_NN` function and provide either the trained classifier or the file path to the trained classifier, along with a list of antibody objects to test. `test_rf` outputs the F1 score for a random forest model, while `test_NN` outputs the F1 score, precision, and recall for a neural network model."
   ]
  },
  {
   "cell_type": "code",
   "execution_count": null,
   "id": "ed5ad5e3",
   "metadata": {},
   "outputs": [],
   "source": [
    "from integrated import test_rf, test_NN\n",
    "\n",
    "test_rf(clf, antibody_test_list)"
   ]
  },
  {
   "cell_type": "code",
   "execution_count": null,
   "id": "d397e92c-53a1-4ec6-87ac-6d491c6b4f59",
   "metadata": {},
   "outputs": [],
   "source": [
    "test_NN('512_lr.003_batch10000_r1.pth', antibody_test_list)"
   ]
  },
  {
   "attachments": {},
   "cell_type": "markdown",
   "id": "b7a3863d",
   "metadata": {},
   "source": [
    "## Conclusion\n",
    " \n",
    " In this notebook, we generated training datasets from Excel and CSV files using the `generate_training_dataset_from_excel` and                                `generate_training_dataset_from_csv` functions. We then created antibody objects from these datasets using the `AntibodyCls` class and trained random forest  and neural network models using the `train_rf` and `train_NN` functions. Finally, we tested these models using the `test_rf` and `test_NN` functions."
   ]
  },
  {
   "cell_type": "markdown",
   "id": "44b1a890",
   "metadata": {},
   "source": []
  }
 ],
 "metadata": {
  "kernelspec": {
   "display_name": "Python 3 (ipykernel)",
   "language": "python",
   "name": "python3"
  },
  "language_info": {
   "codemirror_mode": {
    "name": "ipython",
    "version": 3
   },
   "file_extension": ".py",
   "mimetype": "text/x-python",
   "name": "python",
   "nbconvert_exporter": "python",
   "pygments_lexer": "ipython3",
   "version": "3.9.12"
  }
 },
 "nbformat": 4,
 "nbformat_minor": 5
}
