{
 "cells": [
  {
   "cell_type": "code",
   "execution_count": 1,
   "id": "4de7f733-b92f-4bdd-8529-c0afe7d1d85a",
   "metadata": {},
   "outputs": [],
   "source": [
    "from integrated import generate_training_dataset_from_csv, generate_training_dataset_from_excel, antibody_cls, antibody_cls_from_BLADE, train_rf, test_rf, train_NN, test_NN"
   ]
  },
  {
   "cell_type": "markdown",
   "id": "369a87d7-ad2a-42c8-ba4e-3a25b825cd43",
   "metadata": {},
   "source": [
    "## generate training datasets from raw data\n",
    "\n",
    "You may need to change the column name in excel or csv to avoid error, change the column name of binders read to \"Bind\", the column name of display reads to \"Display\".  <br>\n",
    "If experiments have four gates, csv file need 'Bin1','Bin2','Bin3','Bin4' as reads column names.  <br>\n",
    "It can handle dataset designed for BLADE, the dataset should have \"Observations\" and \"Response\" columns, and has the parent sequence in the first row. Just need to use antibody_cls_from_BLADE function when creating antibody objects."
   ]
  },
  {
   "cell_type": "code",
   "execution_count": 2,
   "id": "18ffdbd4-1974-41a6-9c84-4406de20cfb5",
   "metadata": {
    "scrolled": true,
    "tags": []
   },
   "outputs": [],
   "source": [
    "name_list = [\"HC\", \"LC\"]\n",
    "for name in name_list:\n",
    "    for i in range(3):\n",
    "        generate_training_dataset_from_excel(\"ALK7/{}.xlsx\".format(name), \"AAsequence\", \"ALK7/{}_{}_training_datasets\".format(name, i), sheet_name=i)  \n",
    "name_list = ['35A6_HC','35A6_LC','35B6_HC','35B6_LC']\n",
    "for name in name_list:\n",
    "    generate_training_dataset_from_csv(\"CCR8/{}.csv\".format(name), \"AAsequence\", \"CCR8/{}_training_datasets\".format(name))\n",
    "name_list = [\"LTBR_HC\", \"LTBR_LC\"]\n",
    "for name in name_list:\n",
    "    generate_training_dataset_from_csv(\"LTBR/{}.csv\".format(name), \"Sequence\", \"LTBR/{}_training_datasets\".format(name))"
   ]
  },
  {
   "cell_type": "markdown",
   "id": "49be5663-197d-41c2-bbed-b0190ac5fe01",
   "metadata": {},
   "source": [
    "## create antibody objects from training datasets"
   ]
  },
  {
   "cell_type": "code",
   "execution_count": 3,
   "id": "0ae4bcf5-9178-419b-b462-2434db311add",
   "metadata": {},
   "outputs": [],
   "source": [
    "antibody = {}\n",
    "\n",
    "name_list = [\"HC_0\", \"HC_1\", \"HC_2\", \"LC_0\", \"LC_1\", \"LC_2\"]\n",
    "for name in name_list:\n",
    "    antibody['ALK7_'+name] = antibody_cls(\"ALK7/{}_training_datasets\".format(name), mutation_count_column='mutation_count', name=name)\n",
    "    antibody['ALK7_'+name].generate_training_array()\n",
    "    \n",
    "name_list = ['35A6_HC','35A6_LC','35B6_HC','35B6_LC']\n",
    "for name in name_list:\n",
    "    antibody['CCR8_'+name] = antibody_cls(\"CCR8/{}_training_datasets\".format(name), mutation_count_column='mutation_count', bin_num=4, name=name)\n",
    "    antibody['CCR8_'+name].generate_training_array()\n",
    "\n",
    "name_list = [\"LTBR_HC\", \"LTBR_LC\"]\n",
    "for name in name_list:\n",
    "    antibody[name] = antibody_cls_from_BLADE(\"LTBR/{}_training_datasets\".format(name), name=name)\n",
    "    antibody[name].generate_training_array()"
   ]
  },
  {
   "cell_type": "markdown",
   "id": "135a5cce-f68c-4b8e-bced-3765ded7cdc2",
   "metadata": {},
   "source": [
    "## train random forest or neural network using antibody objects\n",
    "\n",
    "### creata a list of antibody"
   ]
  },
  {
   "cell_type": "code",
   "execution_count": 4,
   "id": "4a22bca7-a355-4287-a85c-28a24a89ff89",
   "metadata": {},
   "outputs": [],
   "source": [
    "train_name_list = ['ALK7_HC_0', 'ALK7_HC_1', 'ALK7_HC_2', 'ALK7_LC_0', 'ALK7_LC_1', 'ALK7_LC_2',\n",
    "                'CCR8_35A6_HC','CCR8_35A6_LC','CCR8_35B6_HC','CCR8_35B6_LC' #\"LTBR_HC\", \"LTBR_LC\"\n",
    "                ]\n",
    "antibody_train_list = [antibody[key] for key in train_name_list] \n",
    "\n",
    "test_name_list = [\"LTBR_HC\", \"LTBR_LC\"]\n",
    "antibody_test_list = [antibody[key] for key in test_name_list]"
   ]
  },
  {
   "cell_type": "markdown",
   "id": "15355493-db56-4d92-9883-82987f8f43c0",
   "metadata": {},
   "source": [
    "### train random forest without hyperparameter tuning\n",
    "The function uses class weights and a max depth of 20"
   ]
  },
  {
   "cell_type": "code",
   "execution_count": 5,
   "id": "5e72733d-8e58-4a95-a5a1-48ea1aae722d",
   "metadata": {},
   "outputs": [],
   "source": [
    "clf = train_rf(antibody_train_list)"
   ]
  },
  {
   "cell_type": "markdown",
   "id": "128fe101-37dc-413a-a5cb-8d07cb82743e",
   "metadata": {},
   "source": [
    "### train random forest with hyperparameter tuning"
   ]
  },
  {
   "cell_type": "code",
   "execution_count": 6,
   "id": "4a36c6cd-8ab3-4ca7-9c75-bf8b3bc60d7a",
   "metadata": {},
   "outputs": [],
   "source": [
    "parameters={'max_depth': [10, 20, 50]}\n",
    "\n",
    "clf_ht = train_rf(antibody_train_list, tune_hyper=True, parameters=parameters)"
   ]
  },
  {
   "cell_type": "markdown",
   "id": "a8f36fe0-06f2-4d9a-a9d1-073556526158",
   "metadata": {},
   "source": [
    "### test random forest model"
   ]
  },
  {
   "cell_type": "code",
   "execution_count": 7,
   "id": "8d8ef0bb-4098-49eb-b43d-db44b8f3a877",
   "metadata": {},
   "outputs": [
    {
     "name": "stdout",
     "output_type": "stream",
     "text": [
      "F1_score for [lower affinity, maintain or increase] class: [0.92032222 0.26607145]\n"
     ]
    }
   ],
   "source": [
    "test_rf(clf, antibody_test_list)"
   ]
  },
  {
   "cell_type": "markdown",
   "id": "2f7510a2-dc80-4fa7-b178-4cdfd39b4ea0",
   "metadata": {},
   "source": [
    "### train neural network with shuffle and tune the architecture\n",
    "\n",
    "Instead of returning a classifier, this function stores everything in 'metrics_NN/', 'tensorboard_NN/', 'Checkpoints_NN/' and 'Models/' folders. \n",
    "\n",
    "(The following cell uses a list of [512], num_shuffle=1 for a shorter computation time. )"
   ]
  },
  {
   "cell_type": "code",
   "execution_count": 9,
   "id": "84027687-6530-4abf-aa3e-faa4c70fe4e8",
   "metadata": {},
   "outputs": [
    {
     "name": "stdout",
     "output_type": "stream",
     "text": [
      "epoch 70, test_F1 = 0.6684\n",
      "epoch 140, test_F1 = 0.6950\n",
      "epoch 210, test_F1 = 0.6971\n",
      "epoch 280, test_F1 = 0.6954\n"
     ]
    }
   ],
   "source": [
    "for N_nodes in [512]:\n",
    "    train_NN(antibody_list=antibody_train_list, record_name='{}_lr.003_batch10000'.format(N_nodes), \n",
    "             batch_size=10000, lr=.003, NN_architecture=[1280,N_nodes,2], num_shuffle=1)"
   ]
  },
  {
   "cell_type": "markdown",
   "id": "dae4d8c4-e073-4204-b2eb-c4993cb8d2c4",
   "metadata": {},
   "source": [
    "### test neural network model\n",
    "\n",
    "load '512_lr.003_batch10000_r1' model and test (\"_r1\" is generated from the first shuffle)"
   ]
  },
  {
   "cell_type": "code",
   "execution_count": 11,
   "id": "d397e92c-53a1-4ec6-87ac-6d491c6b4f59",
   "metadata": {},
   "outputs": [
    {
     "name": "stdout",
     "output_type": "stream",
     "text": [
      "F1: 0.280\n",
      "Precision: 0.232\n",
      "Recall: 0.351\n"
     ]
    }
   ],
   "source": [
    "test_NN('512_lr.003_batch10000_r1.pth', antibody_test_list)"
   ]
  },
  {
   "cell_type": "code",
   "execution_count": null,
   "id": "27293758-97c1-409c-85b3-04c601d96cea",
   "metadata": {},
   "outputs": [],
   "source": []
  }
 ],
 "metadata": {
  "kernelspec": {
   "display_name": "Python 3 (ipykernel)",
   "language": "python",
   "name": "python3"
  },
  "language_info": {
   "codemirror_mode": {
    "name": "ipython",
    "version": 3
   },
   "file_extension": ".py",
   "mimetype": "text/x-python",
   "name": "python",
   "nbconvert_exporter": "python",
   "pygments_lexer": "ipython3",
   "version": "3.9.12"
  }
 },
 "nbformat": 4,
 "nbformat_minor": 5
}
