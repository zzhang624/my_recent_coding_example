{
 "cells": [
  {
   "attachments": {},
   "cell_type": "markdown",
   "id": "b17641e3",
   "metadata": {},
   "source": [
    "In this code snippet, we demonstrate how to use the `embeding_seqs` function to generate ESM embeddings for a list of sequences, and how to make predictions using a trained random forest classifier."
   ]
  },
  {
   "cell_type": "code",
   "execution_count": 1,
   "id": "bdbb1264-a313-438e-a949-649b30a1617f",
   "metadata": {},
   "outputs": [],
   "source": [
    "from integrated import embeding_seqs\n",
    "import pickle"
   ]
  },
  {
   "attachments": {},
   "cell_type": "markdown",
   "id": "701411d5-ef96-4b0d-ae32-88418bcdd2ec",
   "metadata": {},
   "source": [
    "To begin, create a list of sequences with the parent sequence in the first row. The sequences can be specified as tuples with a name and amino acid sequence."
   ]
  },
  {
   "cell_type": "code",
   "execution_count": 2,
   "id": "1aff1223-581c-4d9c-830c-d975891625e0",
   "metadata": {},
   "outputs": [],
   "source": [
    "Seqs = [\n",
    "    (\"parent\",  \"KALTARQQEVFDLIRDEISQTGMPATRAEIAQRLGFRSPNAAEEHLKALARKGVIEIVSGASRGIRLLQEE\"),\n",
    "    (\"mutant1\", \"KALTARQQEVFDLIRDHISQTGMPPTRAEIAQRLGFRSPNAAEEHLKALARKGVIEIVSGASRGIRLLQEE\"),\n",
    "    (\"mutant2\", \"KALTARQQEVFDLIRDEISQTGMPPTRAEIAQRLGFRSPNAAEEHLKALARKGVIEIVSGASRGIRLLQEE\"),\n",
    "]"
   ]
  },
  {
   "attachments": {},
   "cell_type": "markdown",
   "id": "36cbfc83-fc1d-4056-9d3a-5f2b75983bc4",
   "metadata": {},
   "source": [
    "Next, use the `embeding_seqs` function from `integrated.py` to generate ESM embeddings for the sequences. The function returns a numpy array with shape (n_sequences, embedding_dimension), where n_sequences is the number of sequences in the input list and embedding_dimension is the dimension of the ESM embeddings."
   ]
  },
  {
   "cell_type": "code",
   "execution_count": 3,
   "id": "59ebb051-7716-46bf-8eb2-599bf59c25c6",
   "metadata": {},
   "outputs": [],
   "source": [
    "X = embeding_seqs(Seqs)"
   ]
  },
  {
   "attachments": {},
   "cell_type": "markdown",
   "id": "811b26b0-14cd-4e26-9de3-4f88c35ca5e1",
   "metadata": {},
   "source": [
    "Once the embeddings are generated, load a trained random forest classifier using the `pickle.load` function and providing the file path of the saved model."
   ]
  },
  {
   "cell_type": "code",
   "execution_count": 4,
   "id": "a481de34-93b2-4994-ac62-51fe4905c46c",
   "metadata": {},
   "outputs": [],
   "source": [
    "rf_clf = pickle.load(open(\"Models/RF_CV_without_Chain_feature.pickle\", 'rb'))"
   ]
  },
  {
   "attachments": {},
   "cell_type": "markdown",
   "id": "c543436d-b40e-4637-8a4f-21e7f0900a9d",
   "metadata": {},
   "source": [
    "Finally, use the `predict` function of the classifier to make predictions on the input sequences. The output is an array with binary values indicating whether the sequence weakens (0) or maintains/increases (1) antibody binding affinity.\n",
    "\n",
    "Note that the demonstration uses a random list of sequences for illustrative purposes only. To use this code with your own sequences, simply replace the example list with your own."
   ]
  },
  {
   "cell_type": "code",
   "execution_count": 5,
   "id": "e0ecd9a0-dd02-40d3-b950-8e1e595d58fc",
   "metadata": {},
   "outputs": [
    {
     "data": {
      "text/plain": [
       "array([0., 0.])"
      ]
     },
     "execution_count": 5,
     "metadata": {},
     "output_type": "execute_result"
    }
   ],
   "source": [
    "rf_clf.predict(X)"
   ]
  }
 ],
 "metadata": {
  "kernelspec": {
   "display_name": "Python 3 (ipykernel)",
   "language": "python",
   "name": "python3"
  },
  "language_info": {
   "codemirror_mode": {
    "name": "ipython",
    "version": 3
   },
   "file_extension": ".py",
   "mimetype": "text/x-python",
   "name": "python",
   "nbconvert_exporter": "python",
   "pygments_lexer": "ipython3",
   "version": "3.9.12"
  }
 },
 "nbformat": 4,
 "nbformat_minor": 5
}
